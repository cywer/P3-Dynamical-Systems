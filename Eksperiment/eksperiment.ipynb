{
 "metadata": {
  "name": "",
  "signature": "sha256:7b933fc75f3116d782f7465842cef62d29cf1755e5d2b1a9e337ec5431931a16"
 },
 "nbformat": 3,
 "nbformat_minor": 0,
 "worksheets": [
  {
   "cells": [
    {
     "cell_type": "code",
     "collapsed": false,
     "input": [
      "from __future__ import division\n",
      "import numpy as np\n",
      "import scipy.optimize as optimization\n",
      "import matplotlib.pyplot as plt\n",
      "import scipy.integrate as integrate\n",
      "from math import cos,sin,sqrt\n",
      "from Funktioner import *\n",
      "from IPython.html.widgets import interact"
     ],
     "language": "python",
     "metadata": {},
     "outputs": [],
     "prompt_number": 32
    },
    {
     "cell_type": "code",
     "collapsed": false,
     "input": [
      "#udkommentere og restart for at kunne bruge zoom\n",
      "%matplotlib inline  "
     ],
     "language": "python",
     "metadata": {},
     "outputs": [],
     "prompt_number": 33
    },
    {
     "cell_type": "code",
     "collapsed": false,
     "input": [
      "\"\"\"\n",
      "regression data\n",
      "funktion til overs\u00e6ttelse\n",
      "\"\"\"\n",
      "\n",
      "def th_kon(data):\n",
      "    return np.deg2rad(35.21 * data + -97.17)\n",
      "def k_kon(data):\n",
      "    return 0.6224 * data - 0.3281 \n",
      "def l_kon(data):\n",
      "    return (22.11 * data + 5.312) * 0.01\n"
     ],
     "language": "python",
     "metadata": {},
     "outputs": [],
     "prompt_number": 34
    },
    {
     "cell_type": "code",
     "collapsed": false,
     "input": [
      "class data_5:\n",
      "    pass\n",
      "class data_6:\n",
      "    pass"
     ],
     "language": "python",
     "metadata": {},
     "outputs": [],
     "prompt_number": 35
    },
    {
     "cell_type": "code",
     "collapsed": false,
     "input": [
      "for navn,store in zip(('Data/scope_5','Data/scope_6'),(data_5,data_6)):\n",
      "    raw=[]\n",
      "    with open(navn+'.csv', 'r') as csvfile:\n",
      "        fil = csvfile.readlines()\n",
      "        for i in fil[2:] :\n",
      "            i = i.split(',')\n",
      "            raw.append([float(i[0]), float(i[2]), float(i[3]), float(i[1])])\n",
      "            #data.append([float(i[0]), float(i[1]), float(i[2]), float(i[3])])\n",
      "\n",
      "    raw = np.array(raw)\n",
      "    # renser uhesigtm\u00e6ssige spikes i kran-pos data  \n",
      "    index_raw =np.nonzero(np.diff(raw[:,2])>0.05)[0]\n",
      "    raw[index_raw,2] = (raw[index_raw-1,2] + raw[index_raw+1,2])/2.\n",
      "    \n",
      "    clean = raw.copy()\n",
      "    ordenliste=[None,25,25,15]\n",
      "    for i in range(1,4):\n",
      "        orden=ordenliste[i]\n",
      "        averging=[]\n",
      "        for i1 in range(0,orden):\n",
      "            averging.append(clean[i1:1000-orden+i1+1,i])\n",
      "        clean[(orden-1)//2:-(orden-1)//2,i]=np.mean(averging,axis=0)\n",
      "        \n",
      "    data_r=np.copy(raw)\n",
      "    data_c=np.copy(clean)\n",
      "\n",
      "    data_r[:,1]=th_kon(raw[:,1])\n",
      "    data_r[:,2]=k_kon(raw[:,2])\n",
      "    data_r[:,3]=l_kon(raw[:,3])\n",
      "    data_c[:,1]=th_kon(clean[:,1])\n",
      "    data_c[:,2]=k_kon(clean[:,2])\n",
      "    data_c[:,3]=l_kon(clean[:,3])\n",
      "    \n",
      "    #Begyndelses data til simuleringen laves fra clean konverteret data\n",
      "    time  = data_c[:,0]\n",
      "    thData= data_c[:,1]\n",
      "    xData = data_c[:,2]\n",
      "    lData = data_c[:,3]\n",
      "\n",
      "    th1Data= np.gradient(thData, 0.01)\n",
      "    x1Data= np.gradient(xData, 0.01)\n",
      "    \n",
      "    store.raw=raw\n",
      "    store.clean=clean\n",
      "    store.data_r=data_r\n",
      "    store.data_c=data_c\n",
      "    store.time=time\n",
      "    store.thData=thData\n",
      "    store.xData=xData\n",
      "    store.lData=lData\n",
      "    store.th1Data=th1Data\n",
      "    store.x1Data=x1Data"
     ],
     "language": "python",
     "metadata": {},
     "outputs": [],
     "prompt_number": 36
    },
    {
     "cell_type": "markdown",
     "metadata": {},
     "source": [
      "Fittet laves med data fra scope_6.csv"
     ]
    },
    {
     "cell_type": "code",
     "collapsed": false,
     "input": [
      "D=data_6"
     ],
     "language": "python",
     "metadata": {},
     "outputs": [],
     "prompt_number": 37
    },
    {
     "cell_type": "code",
     "collapsed": false,
     "input": [
      "def kvantisering(data):\n",
      "    diff=np.diff(data)\n",
      "    diff = np.min(np.fabs(diff[np.nonzero(diff)]))\n",
      "    return diff\n",
      "print '   volt, konverteret enhed'\n",
      "for i,i2 in enumerate(['dt','th','k ','l ']):\n",
      "    print i2,'%.4f, %.4f'  %(kvantisering(D.raw[:,i])\n",
      "                             ,kvantisering(D.data_r[:,i]))\n",
      "print 'Done'"
     ],
     "language": "python",
     "metadata": {},
     "outputs": [
      {
       "output_type": "stream",
       "stream": "stdout",
       "text": [
        "   volt, konverteret enhed\n",
        "dt 0.0100, 0.0100\n",
        "th 0.0156, 0.0096\n",
        "k  0.0008, 0.0005\n",
        "l  0.0003, 0.0001\n",
        "Done\n"
       ]
      }
     ],
     "prompt_number": 38
    },
    {
     "cell_type": "code",
     "collapsed": false,
     "input": [
      "#plot r\u00e5 data [volt]\n",
      "fig=plt.figure(dpi=300)\n",
      "ax=plt.subplot()\n",
      "#fig,ax=plt.subplot(0,dpi=300)\n",
      "#plt.plot(data.data_r[:,0],raw[:,1:])\n",
      "#plt.plot(data.data_r[:,0],clean[:,1:])\n",
      "latexify(6.9*0.8,columns=2)\n",
      "format_axes(ax)\n",
      "#plot data [konverteret]\n",
      "ax.plot(D.data_r[:,0],D.data_r[:,1:])\n",
      "ax.plot(D.data_r[:,0],D.data_c[:,1:])\n",
      "plt.savefig('grafik\\eksperiment_data.pdf')\n",
      "plt.show()"
     ],
     "language": "python",
     "metadata": {},
     "outputs": [
      {
       "metadata": {},
       "output_type": "display_data",
       "png": "[encoded data removed]",
       "text": [
        "<matplotlib.figure.Figure at 0x7f4111bdc990>"
       ]
      }
     ],
     "prompt_number": 39
    },
    {
     "cell_type": "code",
     "collapsed": false,
     "input": [
      "#==============================================================================\n",
      "# Funktioner\n",
      "#==============================================================================\n",
      "def derivsQF(state, t,g,m_c,m_k,z,z_k,f,q,Force):\n",
      "    Q = np.zeros(3)\n",
      "    Q[0] = -z*(state[4]*state[1] + cos(state[0])*state[3])*sqrt(abs(state[4]*sin(state[0])*state[1] - cos(state[0])*state[5])**2 + abs(state[4]*cos(state[0])*state[1] + sin(state[0])*state[5] + state[3])**2)*state[4]\n",
      "    Q[1] = -z_k*state[3]\n",
      "    #Q[1] = -z_k*state[3]*abs(state[3])\n",
      "    Q[2] = -z*(sin(state[0])*state[3] + state[5])*sqrt(abs(state[4]*sin(state[0])*state[1] - cos(state[0])*state[5])**2 + abs(state[4]*cos(state[0])*state[1] + sin(state[0])*state[5] + state[3])**2)\n",
      "    \n",
      "    Q[1]+= f(state, t,Q[0],Q[1],Q[2])\n",
      "    Q[2]+= -q(state, t,Q[0],Q[1],Q[2])\n",
      "    \n",
      "    if Force=='None': pass\n",
      "    elif Force=='q':\n",
      "        Q[2]+= -(Q[0]*m_c*sin(2*state[0])/2 - Q[1]*m_c*state[4]*sin(state[0]) + g*m_c*m_k*state[4]*cos(state[0]) + m_c*m_k*state[4]**2*state[1]**2 - m_c*z*sqrt(abs(state[4]*sin(state[0])*state[1] - cos(state[0])*state[5])**2 + abs(state[4]*cos(state[0])*state[1] + sin(state[0])*state[5] + state[3])**2)*state[4]*sin(state[0])**3*state[3] - m_c*z*sqrt(abs(state[4]*sin(state[0])*state[1] - cos(state[0])*state[5])**2 + abs(state[4]*cos(state[0])*state[1] + sin(state[0])*state[5] + state[3])**2)*state[4]*sin(state[0])**2*state[5] - m_k*z*sqrt(abs(state[4]*sin(state[0])*state[1] - cos(state[0])*state[5])**2 + abs(state[4]*cos(state[0])*state[1] + sin(state[0])*state[5] + state[3])**2)*state[4]*sin(state[0])*state[3] - m_k*z*sqrt(abs(state[4]*sin(state[0])*state[1] - cos(state[0])*state[5])**2 + abs(state[4]*cos(state[0])*state[1] + sin(state[0])*state[5] + state[3])**2)*state[4]*state[5])/((m_c*sin(state[0])**2 + m_k)*state[4])\n",
      "    elif Force=='f':\n",
      "        Q[1]+= Q[0]*cos(state[0])/state[4] + Q[2]*sin(state[0]) + z_k*abs(state[3])*state[3]\n",
      "    elif Force=='kl':\n",
      "        Q[1]+= Q[0]*cos(state[0])/state[4] - g*m_c*sin(state[0])*cos(state[0]) - m_c*state[4]*sin(state[0])*state[1]**2 + m_c*z*sqrt(abs(state[4]*sin(state[0])*state[1] - cos(state[0])*state[5])**2 + abs(state[4]*cos(state[0])*state[1] + sin(state[0])*state[5] + state[3])**2)*sin(state[0])**4*state[3]/m_k + m_c*z*sqrt(abs(state[4]*sin(state[0])*state[1] - cos(state[0])*state[5])**2 + abs(state[4]*cos(state[0])*state[1] + sin(state[0])*state[5] + state[3])**2)*sin(state[0])**3*state[5]/m_k - m_c*z_k*sin(state[0])**2*abs(state[3])*state[3]/m_k + z*sqrt(abs(state[4]*sin(state[0])*state[1] - cos(state[0])*state[5])**2 + abs(state[4]*cos(state[0])*state[1] + sin(state[0])*state[5] + state[3])**2)*sin(state[0])**2*state[3] + z*sqrt(abs(state[4]*sin(state[0])*state[1] - cos(state[0])*state[5])**2 + abs(state[4]*cos(state[0])*state[1] + sin(state[0])*state[5] + state[3])**2)*sin(state[0])*state[5]\n",
      "        Q[2]+= -g*m_c*cos(state[0]) - m_c*state[4]*state[1]**2 + m_c*z*sqrt(abs(state[4]*sin(state[0])*state[1] - cos(state[0])*state[5])**2 + abs(state[4]*cos(state[0])*state[1] + sin(state[0])*state[5] + state[3])**2)*sin(state[0])**3*state[3]/m_k + m_c*z*sqrt(abs(state[4]*sin(state[0])*state[1] - cos(state[0])*state[5])**2 + abs(state[4]*cos(state[0])*state[1] + sin(state[0])*state[5] + state[3])**2)*sin(state[0])**2*state[5]/m_k - m_c*z_k*sin(state[0])*abs(state[3])*state[3]/m_k + z*sqrt(abs(state[4]*sin(state[0])*state[1] - cos(state[0])*state[5])**2 + abs(state[4]*cos(state[0])*state[1] + sin(state[0])*state[5] + state[3])**2)*sin(state[0])*state[3] + z*sqrt(abs(state[4]*sin(state[0])*state[1] - cos(state[0])*state[5])**2 + abs(state[4]*cos(state[0])*state[1] + sin(state[0])*state[5] + state[3])**2)*state[5]\n",
      "    else: raise IOError('forkert kraft')\n",
      "    \n",
      "    dydx = np.zeros_like(state)\n",
      "    dydx[0] = state[1]\n",
      "    dydx[1] = (Q[0]*m_c*cos(2*state[0])/2 + Q[0]*m_c/2 + Q[0]*m_k - Q[1]*m_c*state[4]*cos(state[0]) + Q[2]*m_c*state[4]*sin(2*state[0])/2 - g*m_c*m_k*state[4]*sin(state[0]) - 2*m_c*m_k*state[4]*state[5]*state[1])/(m_c*m_k*state[4]**2)\n",
      "    dydx[2] = state[3]\n",
      "    dydx[3] = (-Q[0]*cos(state[0]) + (Q[1] - Q[2]*sin(state[0]))*state[4])/(m_k*state[4])\n",
      "    dydx[4] = state[5]\n",
      "    dydx[5] = Q[0]*sin(2*state[0])/(2*m_k*state[4]) - Q[1]*sin(state[0])/m_k + Q[2]*sin(state[0])**2/m_k + Q[2]/m_c + g*cos(state[0]) + state[4]*state[1]**2\n",
      "    return dydx\n",
      "    \n",
      "def f0(state, t,Q_0,Q_1,Q_2):\n",
      "    return 0\n",
      "def q0(state, t,Q_0,Q_1,Q_2):\n",
      "    return 0\n",
      "\n",
      "def f1(state, t,Q_0,Q_1,Q_2):\n",
      "    if t < 3 and t > 1:  return 1\n",
      "    else:                return 0\n",
      "\n",
      "def reset_sys(Friktion=False,ts=10,dtt=0.1):\n",
      "    t0 = 0; dt=dtt;time  = np.arange(t0,ts,dt)\n",
      "    g   = 9.8     # acceleration due to gravity, in m/s^2\n",
      "    m_c = 1.0     # mass of pendulum 1 in kg\n",
      "    m_k = 1.0     # mass of crane\n",
      "    z   = 0.0     # luft friktions koefficient\n",
      "    z_k = 0.0     # kranen friktions koefficient\n",
      "    \n",
      "    A  =  0.0     # th1 is the initial angle (degrees)\n",
      "    Av =  0.0     # w10 is the initial angular velocitie (degrees per second)\n",
      "    Kp =  0.0     # Cranes initial posistion [meters]\n",
      "    Kv =  0.0     # Cranes initial velocity [meters per second]\n",
      "    L  = 10.      # Wire initial length [meters]\n",
      "    Lv =  0.      # Wire initial velocity [meters per second]\n",
      "\n",
      "    f = f0\n",
      "    q = q0\n",
      "    Force = 'q'\n",
      "    \n",
      "    derivs = derivsQF if Friktion else derivsQ\n",
      "    settings = (g,m_c,m_k,z,z_k,f,q,Force)\n",
      "    return time,derivs,settings,dt"
     ],
     "language": "python",
     "metadata": {},
     "outputs": [],
     "prompt_number": 40
    },
    {
     "cell_type": "code",
     "collapsed": false,
     "input": [
      "#==============================================================================\n",
      "# Prediction error method\n",
      "#==============================================================================\n",
      "g=9.82\n",
      "m_c=5.5\n",
      "\n",
      "_,derivs,settings,dt = reset_sys(Friktion=True,ts=1,dtt=.01)\n",
      "g,m_c,m_k,z,z_k,f,q,Force = settings\n",
      "\n",
      "#[175,255,325,410,482,560,635,720,795,900] # scope 6\n",
      "nt = 175\n",
      "st = 555\n",
      "simtid=400\n",
      "bb=range(nt-5,nt+6)"
     ],
     "language": "python",
     "metadata": {},
     "outputs": [],
     "prompt_number": 41
    },
    {
     "cell_type": "code",
     "collapsed": false,
     "input": [
      "\"\"\"enkelt start\"\"\"\n",
      "#def fun(varss, thData,xData,lData,nt,st,th1Data):\n",
      "#    varss = np.fabs(varss)\n",
      "#    state = np.array([thData[nt],th1Data[nt],xData[nt],x1Data[nt],lData[nt],0]) \n",
      "#    S = integrate.odeint(derivs, state, time[nt:st],(g,m_c,varss[0],varss[1],varss[2],f,q,Force))\n",
      "#    \n",
      "#    return (data[nt:st,1]-S[:,0])*0.68+(data[nt:st,2]-S[:,2])\n",
      "    \n",
      "\"\"\"average start\"\"\"\n",
      "def fun(varss, D,tdata,bb,simtid):\n",
      "        #thData,xData,lData,th1Data,x1Datant,time,tdata\n",
      "    varss = np.fabs(varss)\n",
      "    \n",
      "    \n",
      "    lq = np.zeros_like(time[:])\n",
      "    \n",
      "    for i in range(len(bb)):\n",
      "        bn= 1000 if 1000<simtid+bb[i] else simtid+bb[i]\n",
      "        state = np.array([D.thData[bb[i]],D.th1Data[bb[i]]\n",
      "                          ,D.xData[bb[i]],D.x1Data[bb[i]]\n",
      "                          ,D.lData[bb[i]],0])\n",
      "        S = integrate.odeint(derivs, state, D.time[bb[i]:bn]\n",
      "                             ,(g,m_c,varss[0],varss[1],varss[2],f,q,Force))\n",
      "        lq[bb[i]:bn]= tdata[bb[i]:bn,1]-S[:,0]+(tdata[bb[i]:bn,2]-S[:,2])*10\n",
      "    return lq\n",
      "#6.2755928379 , 0.0668604375158 , 19.7925313935     #175\n",
      "#6.45723788947 , -2.12631256044e-05 , 17.6445936124 #175 #300p\n",
      "#6.36557367559 , -0.0808660314753 , 20.1636827873   #175 #400p\n",
      "#7.25431370714 , 2.85971541767e-05 , 17.3535515065  #255 #300p\n",
      "#7.38291012766 , 0.0031440033846 , 15.9708811115    #255 #400p\n",
      "\"\"\"\n",
      "fit fra scope_6  : (170,180)400\n",
      "#6.36557367559 , -0.0808660314753 , 20.1636827873   #175 #400p\n",
      "plt til scope_5\n",
      "nt = 214\n",
      "\"\"\""
     ],
     "language": "python",
     "metadata": {},
     "outputs": [
      {
       "metadata": {},
       "output_type": "pyout",
       "prompt_number": 42,
       "text": [
        "'\\nfit fra scope_6  : (170,180)400\\n#6.36557367559 , -0.0808660314753 , 20.1636827873   #175 #400p\\nplt til scope_5\\nnt = 214\\n'"
       ]
      }
     ],
     "prompt_number": 42
    },
    {
     "cell_type": "heading",
     "level": 2,
     "metadata": {},
     "source": [
      "Begyndelsesbetingelse og g\u00e6t"
     ]
    },
    {
     "cell_type": "code",
     "collapsed": false,
     "input": [
      "V=data_6\n",
      "\n",
      "latexify(6.9*0.8,4.264434522374275,columns=2)\n",
      "def begynd(nt,m_k,z,z_k):\n",
      "    fig,ax = plt.subplots(2, 1,sharex=True,dpi=300)\n",
      "    ax1 = ax[0]\n",
      "    ax2 = ax[1]\n",
      "\n",
      "    ax1.set_title('Vinkel')\n",
      "    ax2.set_title('Kranposition')\n",
      "    ax1.set_ylabel('Vinkel [rad]')\n",
      "    ax2.set_ylabel('Afstand [m]')\n",
      "    plt.xlabel('Tid [s]')\n",
      "\n",
      "    varss = np.fabs([m_k,z,z_k])\n",
      "\n",
      "    a=fun(varss, V,V.data_r,[nt],simtid)\n",
      "    print 'ls',np.mean(a)\n",
      "\n",
      "    state = np.array([V.thData[nt],V.th1Data[nt],V.xData[nt]\n",
      "                      ,V.x1Data[nt],V.lData[nt],0])\n",
      "    S = integrate.odeint(derivs, state, V.time[nt:],(g,m_c,varss[0],varss[1],\n",
      "                                                   varss[2],f,q,Force))\n",
      "    # plot begyndelses hastigheder\n",
      "    b=np.linspace(-0.3,0.3,100)\n",
      "    ax1.plot(b+V.time[nt],b*V.th1Data[nt]+V.thData[nt])\n",
      "    ax2.plot(b+V.time[nt],b*V.x1Data[nt]+V.xData[nt])\n",
      "\n",
      "    #plot filtrede data\n",
      "    #ax1.plot(V.time[:,0],V.thData,'--', color=\"y\", label=\"th\")\n",
      "    #ax2.plot(V.time[:,0], V.xData,'--', color=\"g\", label=\"x\")\n",
      "    #plt.plot(V.time[:,0], V.lData,'--', color=\"b\", label=\"l\")\n",
      "\n",
      "    #plot data lq fitter til\n",
      "    tdata=V.data_r\n",
      "    ax1.plot(V.time[:], tdata[:,1], color=\"y\", label=r\"$\\theta$\")\n",
      "    ax2.plot(V.time[:], tdata[:,2], color=\"g\", label=r\"$k_x$\")\n",
      "    #plt.plot(V.time[:], tdata[:,3], color=\"b\", label=\"l\")\n",
      "\n",
      "    # plot simulerede data\n",
      "    ax1.plot(V.time[nt:], S[:,0], color=\"r\", label=\"fit\")\n",
      "    lines=ax2.plot(V.time[nt:], S[:,2], color=\"r\", label=\"fit\")\n",
      "\n",
      "    #data der er brugt lq over\n",
      "    #ax1.plot(V.time[nt:st], S[:st-nt,0],'--', color=\"b\", label=\"th\")\n",
      "    #ax2.plot(V.time[nt:st], S[:st-nt,2],'--', color=\"b\", label=\"x\")\n",
      "    ax1.legend()\n",
      "    ax2.legend()\n",
      "    format_axes(ax1)\n",
      "    format_axes(ax2)\n",
      "    #plt.savefig('grafik\\kranfit.pdf')\n",
      "    #plt.show()\n",
      "    #ax2.lines.remove(lines[0])\n",
      "    #l = lines.pop(0)\n",
      "    #del(l)\n",
      "\n",
      "    return fig"
     ],
     "language": "python",
     "metadata": {},
     "outputs": [],
     "prompt_number": 43
    },
    {
     "cell_type": "code",
     "collapsed": false,
     "input": [
      "wig = interact(begynd,\n",
      "        nt =(175,1000,2),\n",
      "        m_k=(3.,10.,.1),\n",
      "        z=(0.,1.,.001),\n",
      "        z_k=(0.,200.,.1)\n",
      "        )"
     ],
     "language": "python",
     "metadata": {},
     "outputs": [
      {
       "output_type": "stream",
       "stream": "stdout",
       "text": [
        "ls -0.0633963108547\n"
       ]
      },
      {
       "metadata": {},
       "output_type": "display_data",
       "png": "[encoded data removed]",
       "text": [
        "<matplotlib.figure.Figure at 0x7f4111dd4210>"
       ]
      }
     ],
     "prompt_number": 44
    },
    {
     "cell_type": "heading",
     "level": 2,
     "metadata": {},
     "source": [
      "Minimere fejlen"
     ]
    },
    {
     "cell_type": "code",
     "collapsed": false,
     "input": [
      "#g\u00e6t: massen af kran, friktion af lasten, friktion af kranen ,k1,k\n",
      "varss = np.array([4.970 , 1.829e-06 , 15.380])\n",
      "\n",
      "out,_ = optimization.leastsq(fun, varss ,args=(D,D.data_r,bb,simtid))\n",
      "#D.thData,D.xData,D.lData, D.th1Data,D.x1Data,D.time ,tdata,bb,simtid))\n",
      "out_gem=out\n",
      "print 'Parametre',out[0],',',out[1],',',out[2]\n",
      "\n",
      "a=fun(out, D,D.data_r,bb,simtid)\n",
      "print 'ls',np.mean(a)"
     ],
     "language": "python",
     "metadata": {},
     "outputs": [
      {
       "output_type": "stream",
       "stream": "stdout",
       "text": [
        "Parametre 6.38121180647 , -0.102574971807 , 20.7619179766\n",
        "ls"
       ]
      },
      {
       "output_type": "stream",
       "stream": "stdout",
       "text": [
        " -0.000191796423593\n"
       ]
      }
     ],
     "prompt_number": 45
    },
    {
     "cell_type": "heading",
     "level": 2,
     "metadata": {},
     "source": [
      "Verifikation"
     ]
    },
    {
     "cell_type": "code",
     "collapsed": false,
     "input": [
      "V=data_5\n",
      "\n",
      "latexify(6.9*0.8,4.264434522374275,columns=2)\n",
      "def verification(nt):\n",
      "    fig,ax = plt.subplots(2, 1,sharex=True,dpi=300)\n",
      "    ax1 = ax[0]\n",
      "    ax2 = ax[1]\n",
      "\n",
      "    ax1.set_title('Vinkel')\n",
      "    ax2.set_title('Kranposition')\n",
      "    ax1.set_ylabel('Vinkel [rad]')\n",
      "    ax2.set_ylabel('Afstand [m]')\n",
      "    plt.xlabel('Tid [s]')\n",
      "\n",
      "    #varss = np.fabs(out)\n",
      "    #varss = np.array([6.2755928379 , 0.0668604375158 , 19.7925313935]) # W \n",
      "    #varss = np.array([6.45723788947 , -2.12631256044e-05 , 17.6445936124])\n",
      "    varss = np.array([6.36557367559 , -0.0808660314753 , 20.1636827873])# W2\n",
      "    #varss = np.array([7.25431370714 , 2.85971541767e-05 , 17.3535515065 ])\n",
      "    #varss = np.array([7.38291012766 , 0.0031440033846 , 15.9708811115])\n",
      "\n",
      "    varss = np.fabs(varss)\n",
      "    a=fun(varss, V,V.data_r,[nt],simtid)\n",
      "    print 'ls',np.mean(a)\n",
      "\n",
      "    state = np.array([V.thData[nt],V.th1Data[nt],V.xData[nt]\n",
      "                      ,V.x1Data[nt],V.lData[nt],0])\n",
      "    S = integrate.odeint(derivs, state, V.time[nt:],(g,m_c,varss[0],varss[1],\n",
      "                                                   varss[2],f,q,Force))\n",
      "    # plot begyndelses hastigheder\n",
      "    b=np.linspace(-0.3,0.3,100)\n",
      "    ax1.plot(b+V.time[nt],b*V.th1Data[nt]+V.thData[nt])\n",
      "    ax2.plot(b+V.time[nt],b*V.x1Data[nt]+V.xData[nt])\n",
      "\n",
      "    #plot filtrede data\n",
      "    #ax1.plot(V.time[:,0],V.thData,'--', color=\"y\", label=\"th\")\n",
      "    #ax2.plot(V.time[:,0], V.xData,'--', color=\"g\", label=\"x\")\n",
      "    #plt.plot(V.time[:,0], V.lData,'--', color=\"b\", label=\"l\")\n",
      "\n",
      "    #plot data lq fitter til\n",
      "    tdata=V.data_r\n",
      "    ax1.plot(V.time[:], tdata[:,1], color=\"y\", label=r\"$\\theta$\")\n",
      "    ax2.plot(V.time[:], tdata[:,2], color=\"g\", label=r\"$k_x$\")\n",
      "    #plt.plot(V.time[:], tdata[:,3], color=\"b\", label=\"l\")\n",
      "\n",
      "    # plot simulerede data\n",
      "    ax1.plot(V.time[nt:], S[:,0], color=\"r\", label=\"fit\")\n",
      "    lines=ax2.plot(V.time[nt:], S[:,2], color=\"r\", label=\"fit\")\n",
      "\n",
      "    #data der er brugt lq over\n",
      "    #ax1.plot(V.time[nt:st], S[:st-nt,0],'--', color=\"b\", label=\"th\")\n",
      "    #ax2.plot(V.time[nt:st], S[:st-nt,2],'--', color=\"b\", label=\"x\")\n",
      "    ax1.legend()\n",
      "    ax2.legend()\n",
      "    format_axes(ax1)\n",
      "    format_axes(ax2)\n",
      "    #plt.savefig('grafik\\kranfit.pdf')\n",
      "    #plt.show()\n",
      "    #ax2.lines.remove(lines[0])\n",
      "    #l = lines.pop(0)\n",
      "    #del(l)\n",
      "    return fig"
     ],
     "language": "python",
     "metadata": {},
     "outputs": [],
     "prompt_number": 46
    },
    {
     "cell_type": "code",
     "collapsed": false,
     "input": [
      "wig = interact(verification,\n",
      "        nt =(130,1000,2),\n",
      "        )\n",
      "#wig.widget.result "
     ],
     "language": "python",
     "metadata": {},
     "outputs": [
      {
       "output_type": "stream",
       "stream": "stdout",
       "text": [
        "ls 0.0466988616068\n"
       ]
      },
      {
       "metadata": {},
       "output_type": "display_data",
       "png": "[encoded data removed]",
       "text": [
        "<matplotlib.figure.Figure at 0x7f4111e45050>"
       ]
      }
     ],
     "prompt_number": 47
    }
   ],
   "metadata": {}
  }
 ]
}